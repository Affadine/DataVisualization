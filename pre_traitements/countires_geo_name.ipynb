{
 "cells": [
  {
   "cell_type": "code",
   "execution_count": 8,
   "metadata": {},
   "outputs": [],
   "source": [
    "import requests\n",
    "import bs4\n",
    "import csv"
   ]
  },
  {
   "cell_type": "code",
   "execution_count": 2,
   "metadata": {},
   "outputs": [],
   "source": [
    "html_country_names_url = 'https://developers.google.com/public-data/docs/canonical/countries_csv'\n",
    "\n",
    "page_text = requests.get(html_country_names_url).text\n",
    "soup = bs4.BeautifulSoup(page_text, 'html.parser')"
   ]
  },
  {
   "cell_type": "code",
   "execution_count": 18,
   "metadata": {},
   "outputs": [],
   "source": [
    "eucountries_url = 'https://datahub.io/opendatafortaxjustice/listofeucountries/r/0.csv'\n",
    "eu_countries = requests.get(eucountries_url).text.split('\\r\\n')[1:][:-1]"
   ]
  },
  {
   "cell_type": "code",
   "execution_count": 20,
   "metadata": {},
   "outputs": [
    {
     "name": "stdout",
     "output_type": "stream",
     "text": [
      "['country', 'latitude', 'longitude', 'name']\n",
      "[['AT', '47.516231', '14.550072', 'Austria'], ['BE', '50.503887', '4.469936', 'Belgium'], ['BG', '42.733883', '25.48583', 'Bulgaria'], ['CY', '35.126413', '33.429859', 'Cyprus'], ['CZ', '49.817492', '15.472962', 'Czech Republic'], ['DE', '51.165691', '10.451526', 'Germany'], ['DK', '56.26392', '9.501785', 'Denmark'], ['EE', '58.595272', '25.013607', 'Estonia'], ['ES', '40.463667', '-3.74922', 'Spain'], ['FI', '61.92411', '25.748151', 'Finland'], ['FR', '46.227638', '2.213749', 'France'], ['GB', '55.378051', '-3.435973', 'United Kingdom'], ['GR', '39.074208', '21.824312', 'Greece'], ['HR', '45.1', '15.2', 'Croatia'], ['HU', '47.162494', '19.503304', 'Hungary'], ['IE', '53.41291', '-8.24389', 'Ireland'], ['IT', '41.87194', '12.56738', 'Italy'], ['LT', '55.169438', '23.881275', 'Lithuania'], ['LU', '49.815273', '6.129583', 'Luxembourg'], ['LV', '56.879635', '24.603189', 'Latvia'], ['MT', '35.937496', '14.375416', 'Malta'], ['NL', '52.132633', '5.291266', 'Netherlands'], ['PL', '51.919438', '19.145136', 'Poland'], ['PT', '39.399872', '-8.224454', 'Portugal'], ['RO', '45.943161', '24.96676', 'Romania'], ['SE', '60.128161', '18.643501', 'Sweden'], ['SI', '46.151241', '14.995463', 'Slovenia']]\n"
     ]
    }
   ],
   "source": [
    "table = soup.find('table')\n",
    "headers = [th.text for th in table.select(\"tr th\")]\n",
    "print(headers)\n",
    "\n",
    "with open(\"countries.csv\", \"w\") as f:\n",
    "    wr = csv.writer(f)\n",
    "    wr.writerow(headers)\n",
    "    countries_geo = [[td.text for td in row.find_all(\"td\")] for row in table.select(\"tr + tr\")]\n",
    "    eu_countries_geo = [ country for country in countries_geo if country[3] in eu_countries]\n",
    "    print(eu_countries_geo)\n",
    "    wr.writerows(eu_countries_geo)"
   ]
  }
 ],
 "metadata": {
  "kernelspec": {
   "display_name": "Python 3",
   "language": "python",
   "name": "python3"
  },
  "language_info": {
   "codemirror_mode": {
    "name": "ipython",
    "version": 3
   },
   "file_extension": ".py",
   "mimetype": "text/x-python",
   "name": "python",
   "nbconvert_exporter": "python",
   "pygments_lexer": "ipython3",
   "version": "3.8.5"
  }
 },
 "nbformat": 4,
 "nbformat_minor": 4
}
